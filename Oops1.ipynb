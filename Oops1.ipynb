{
  "nbformat": 4,
  "nbformat_minor": 0,
  "metadata": {
    "colab": {
      "private_outputs": true,
      "provenance": [],
      "authorship_tag": "ABX9TyOKke70kPi27D5JWht+7o9h",
      "include_colab_link": true
    },
    "kernelspec": {
      "name": "python3",
      "display_name": "Python 3"
    },
    "language_info": {
      "name": "python"
    }
  },
  "cells": [
    {
      "cell_type": "markdown",
      "metadata": {
        "id": "view-in-github",
        "colab_type": "text"
      },
      "source": [
        "<a href=\"https://colab.research.google.com/github/tehmik3/Oops_new_repo/blob/main/Oops1.ipynb\" target=\"_parent\"><img src=\"https://colab.research.google.com/assets/colab-badge.svg\" alt=\"Open In Colab\"/></a>"
      ]
    },
    {
      "cell_type": "markdown",
      "source": [
        "# ***OOP (Obeject Oriented Programming):***"
      ],
      "metadata": {
        "id": "FB1oFWXTTz0C"
      }
    },
    {
      "cell_type": "code",
      "execution_count": null,
      "metadata": {
        "id": "CZNSuPjwTmH5"
      },
      "outputs": [],
      "source": [
        "print(\"hello\")\n",
        "print(\"hi\")\n",
        "\n",
        "\n",
        "student1_name: str = \"Ali\"\n",
        "student1_age: int = 30\n",
        "\n",
        "student2_name: str = \"abdullaha\"\n",
        "student2_age: int = 23\n",
        "\n",
        "print(student1_name)\n",
        "print(student1_age)\n",
        "\n",
        "print(student2_name)\n",
        "print(student1_age)\n"
      ]
    },
    {
      "cell_type": "code",
      "source": [
        "class Student:      #   Blueprint\n",
        "    def __init__(self, name, grade, percentage, section):\n",
        "        self.name = name            #  name----> attribute\n",
        "        self.grade = grade          # grade---> attribute\n",
        "        self.percentage = percentage    #   percentage---> attribute\n",
        "        self.section = section\n",
        "\n",
        "    def student_details(self):      #   Method\n",
        "        print(f\"{self.name} is in class {self.grade} with {self.percentage}% and is in section {self.section}\")\n",
        "\n",
        "section1 = \"A\"\n",
        "section2 = \"B\"\n",
        "student1 = Student(\"Tahreem\", 12, 92, section1)        #   Instance\n",
        "print(student1.name, student1.grade)\n",
        "\n",
        "student2 = Student(\"Guriya\", 11, 90, section2)\n",
        "print(student2.name, student2.grade)\n",
        "\n",
        "student1.student_details()\n",
        "student2.student_details()\n",
        "\n",
        "print(student1.__dict__)\n",
        "\n",
        "# modify student/object attributes\n",
        "print(\"before modify>>>\",student1.percentage)\n",
        "student1.percentage = 100\n",
        "print(\"after modify>>>\",student1.percentage)\n",
        "# delete object property\n",
        "print(\"before delete>>>\",student1.__dict__)\n",
        "del student1.percentage\n",
        "print(\"after delete>>>\",student1.__dict__)\n",
        "\n",
        "# delete object\n",
        "del student1\n",
        "print(student1.name,student1.grade,student1.percentage,student1.section)\n",
        "print(student2.__dict__)\n",
        "print(student1.__dict__)\n"
      ],
      "metadata": {
        "id": "rEbqbIB6UBZL"
      },
      "execution_count": null,
      "outputs": []
    },
    {
      "cell_type": "code",
      "source": [
        "class Student:\n",
        "    #  constructor\n",
        "    def __init__(self, name: str, age, sec, grade, percentage):     #init>> dunder/ magic\n",
        "        # print(\"self>>>\", self)\n",
        "        self.name = name\n",
        "        self.age = age\n",
        "        self.sec = sec\n",
        "        self.grade = grade\n",
        "        self.percentage = percentage      #   Encapsulation - Private from user whose can not anyone access\n",
        "\n",
        "    # def get_percentage(self):\n",
        "    #     return self.__percentage\n",
        "    def student_details(self):      # Method - Abstraction/hide from user\n",
        "        print(f\"{self.name} is {self.age} years old and is in section {self.sec} in class {self.grade} with passout {self.percentage}%..\")\n",
        "\n",
        "sec1 = \"A\"\n",
        "sec2 = \"B\"\n",
        "\n",
        "person1 = Student(\"Ali\", 30, sec2, 8, 82.50)\n",
        "person2 = Student(\"Hamza\", 22, sec1, 10, 73)\n",
        "\n",
        "person1.student_details()\n",
        "person2.student_details()\n",
        "# print(person1.__dict__)\n",
        "\n",
        "# # modify attribute\n",
        "# print(\"before modify>>>>\", person1.grade)       #   >>>> modify functions property\n",
        "# # person1.grade = 9\n",
        "# print(\"after modify>>>>\", person1.grade)\n",
        "# person2.student_details()\n",
        "# person1.student_details()\n",
        "# # Encapsulate\n",
        "# print(person1.__age)            #   error\n",
        "# print(person1.get_percentage())\n",
        "# print(person2.get_percentage())\n",
        "\n",
        "# del person1.age                 #   delete attribute\n",
        "# print(person1.__dict__)\n",
        "\n",
        "#   INHERITANCE>>>>> allows to reuse parent class method or property in new class\n",
        "\n",
        "class SeniorStudent(Student):\n",
        "    def __init__(self, name, age, sec, grade, percentage, group):\n",
        "        super().__init__(name, age, sec, grade, percentage)\n",
        "        self.group = group\n",
        "\n",
        "    def student_details(self):      # Method - Abstraction/hide from user\n",
        "        super().student_details()\n",
        "        print(f\"in Group {self.group}..\")\n",
        "\n",
        "senior1 = SeniorStudent(\"Kiran\", 16, sec1, 10, 89, \"Science\")\n",
        "senior1.student_details()\n",
        "\n"
      ],
      "metadata": {
        "id": "tBEswp5xUXOU"
      },
      "execution_count": null,
      "outputs": []
    },
    {
      "cell_type": "code",
      "source": [
        "# Abstraction\n",
        "\n",
        "class Student:      #   Blueprint\n",
        "    def __init__(self, name, grade, percentage):\n",
        "        self.name = name            #  name----> attribute\n",
        "        self.grade = grade          # grade---> attribute\n",
        "        self.percentage = percentage    #   percentage---> attribute\n",
        "\n",
        "    def student_details(self):      #   Method - Abstraction\n",
        "        print(f\"{self.name} is in class {self.grade} with {self.percentage+2}%\")    #hidden from users\n",
        "\n",
        "student1 = Student(\"Tahreem\", 12, 92)        #   Instance\n",
        "student2 = Student(\"Guriya\", 11, 90)\n",
        "\n",
        "student1.student_details()\n",
        "student2.student_details()"
      ],
      "metadata": {
        "id": "OSN0P0plUo43"
      },
      "execution_count": null,
      "outputs": []
    },
    {
      "cell_type": "code",
      "source": [
        "# Encapsulation\n",
        "\n",
        "class Student:      #   Blueprint\n",
        "    def __init__(self, name, grade, percentage):\n",
        "        self.name = name            #  name----> attribute\n",
        "        self.grade = grade          # grade---> attribute\n",
        "        self.__percentage = percentage    #   double underscore limit access\n",
        "\n",
        "    def get_percentage(self):\n",
        "        return self.__percentage\n",
        "    def student_details(self):      #   Method\n",
        "        print(f\"{self.name} is in class {self.grade} with {self.percentage+2}%\")\n",
        "\n",
        "student1 = Student(\"Tahreem\", 12, 92)        #   Instance\n",
        "student2 = Student(\"Guriya\", 11, 90)\n",
        "\n",
        "# print(student1.__percentage)  #     error\n",
        "# student2.student_details()\n",
        "print(student1.get_percentage())\n",
        "print(student2.get_percentage())"
      ],
      "metadata": {
        "id": "P7B_m-HOUx8q"
      },
      "execution_count": null,
      "outputs": []
    },
    {
      "cell_type": "code",
      "source": [
        "# Inheritance\n",
        "\n",
        "class Student:      #   Blueprint\n",
        "    def __init__(self, name, grade, percentage):\n",
        "        self.name = name            #  name----> attribute\n",
        "        self.grade = grade          # grade---> attribute\n",
        "        self.percentage = percentage    #   percentage---> attribute\n",
        "\n",
        "    def student_details(self):      #   Method - Abstraction\n",
        "        print(f\"{self.name} is in class {self.grade} with {self.percentage+2}%\")    #hidden from users\n",
        "\n",
        "student1 = Student(\"Tahreem\", 12, 92)        #   Instance\n",
        "student2 = Student(\"Guriya\", 11, 90)\n",
        "\n",
        "# student1.student_details()\n",
        "# student2.student_details()\n",
        "\n",
        "# child class - beta\n",
        "\n",
        "class GraduateStudent(Student):     # GraduateStudent child class inherit property and methods from student parent class\n",
        "    def __init__(self, name, grade, percentage, group):        # old perameter from parent class and new perameter in child class\n",
        "        super().__init__(name, grade, percentage)       #   call parent class init\n",
        "        self.group = group       # new attribute in child class\n",
        "\n",
        "\n",
        "    def student_details(self):\n",
        "        super().student_details()       #   inherit method using super(). from parent class\n",
        "        print(f\"Group is {self.group}\")\n",
        "# instance/object\n",
        "grad_student1 = GraduateStudent(\"Shahrukh\", 12, 90, \"Science\")\n",
        "# print(grad_student1.group)\n",
        "\n",
        "grad_student1.student_details()"
      ],
      "metadata": {
        "id": "568gGeZgVYY6"
      },
      "execution_count": null,
      "outputs": []
    },
    {
      "cell_type": "code",
      "source": [
        "# polymorphism\n",
        "\n",
        "class Student:      #   Blueprint\n",
        "    def __init__(self, name, grade, percentage):\n",
        "        self.name = name            #  name----> attribute\n",
        "        self.grade = grade          # grade---> attribute\n",
        "        self.percentage = percentage    #   double underscore limit access\n",
        "\n",
        "    # def get_percentage(self):\n",
        "    #     return self.percentage\n",
        "    def student_details(self):      #   Method\n",
        "        print(f\"{self.name} is in class {self.grade} with {self.percentage}%\")\n",
        "\n",
        "# student1 = Student(\"Tahreem\", 12, 92)        #   Instance\n",
        "# student2 = Student(\"Guriya\", 11, 90)\n",
        "\n",
        "# child class - beta\n",
        "\n",
        "class GraduateStudent(Student):\n",
        "    def __init__(self, name, grade, percentage, group):\n",
        "        super().__init__(name, grade, percentage)\n",
        "        self.group = group\n",
        "\n",
        "    def student_details(self):\n",
        "        print(f\"{self.name} is in class {self.grade} with {self.percentage}% and Group is {self.group}\")\n",
        "# instance/object\n",
        "student1 = Student(\"Tahreem\", 12, 92)\n",
        "grad_student1 = GraduateStudent(\"Shahrukh\", 12, 90, \"Science\")\n",
        "student1.student_details()\n",
        "grad_student1.student_details()\n",
        "\n",
        "\n",
        "\n"
      ],
      "metadata": {
        "id": "9J2nIkuJVJn0"
      },
      "execution_count": null,
      "outputs": []
    }
  ]
}