{
  "nbformat": 4,
  "nbformat_minor": 0,
  "metadata": {
    "colab": {
      "private_outputs": true,
      "provenance": [],
      "authorship_tag": "ABX9TyNqfI1utjra2UckzBf4bwYw",
      "include_colab_link": true
    },
    "kernelspec": {
      "name": "python3",
      "display_name": "Python 3"
    },
    "language_info": {
      "name": "python"
    }
  },
  "cells": [
    {
      "cell_type": "markdown",
      "metadata": {
        "id": "view-in-github",
        "colab_type": "text"
      },
      "source": [
        "<a href=\"https://colab.research.google.com/github/tehmik3/Oops_new_repo/blob/main/Oops.ipynb\" target=\"_parent\"><img src=\"https://colab.research.google.com/assets/colab-badge.svg\" alt=\"Open In Colab\"/></a>"
      ]
    },
    {
      "cell_type": "code",
      "source": [
        "from abc import ABC, abstractmethod\n",
        "\n",
        "\n",
        "class Person(ABC):\n",
        "    def __init__(self, name, age):\n",
        "        self.name = name\n",
        "        self.age = age\n",
        "\n",
        "\n",
        "    @abstractmethod\n",
        "    def Work():\n",
        "        pass\n",
        "\n",
        "\n",
        "    def greet():\n",
        "        print(\"Hi\")\n",
        "\n",
        "\n",
        "class Student(Person):\n",
        "    def __init__(self, name: str, age: int, student_id: str):\n",
        "        super().__init__(name,age)\n",
        "        self.student_id = student_id\n",
        "\n",
        "    def Work(self):\n",
        "        print(\"Studying\")\n",
        "\n",
        "    def greet():\n",
        "        print(\"Student is greeting\")\n",
        "\n",
        "\n",
        "s1 = Student(\"Amir\", 34, \"S1234\")\n",
        "# s1.greet()\n",
        "s1.Work()\n",
        "\n",
        "\n"
      ],
      "metadata": {
        "id": "6PnY5ObBDqKs"
      },
      "execution_count": null,
      "outputs": []
    },
    {
      "cell_type": "code",
      "source": [
        "from abc import ABC, abstractmethod\n",
        "\n",
        "\n",
        "class Person():\n",
        "    def __init__(self, name, age):\n",
        "        self.name = name\n",
        "        self.age = age\n",
        "\n",
        "\n",
        "    def Work(self):\n",
        "        print(\"Person is Working..\")\n",
        "\n",
        "\n",
        "    def greet(self):\n",
        "        print(\"Hi\")\n",
        "\n",
        "\n",
        "class Student(Person):\n",
        "    def __init__(self, name: str, age: int, student_id: str) -> None:\n",
        "        super().__init__(name,age)\n",
        "        self.student_id = student_id\n",
        "\n",
        "    def greet(self):\n",
        "        print(\"Student is greeting\")\n",
        "\n",
        "\n",
        "s1 = Student(\"Amir\", 34, \"S1234\")\n",
        "s1.greet()\n",
        "s1.Work()\n",
        "\n"
      ],
      "metadata": {
        "id": "QocaME5aD2MD"
      },
      "execution_count": null,
      "outputs": []
    },
    {
      "cell_type": "code",
      "execution_count": null,
      "metadata": {
        "id": "wbhrBHUADiUb"
      },
      "outputs": [],
      "source": [
        "from abc import ABC, abstractmethod\n",
        "\n",
        "class Person(ABC):\n",
        "    def __init__(self, name, age):\n",
        "        self.name = name\n",
        "        self.age = age\n",
        "\n",
        "    @abstractmethod\n",
        "    def Work():\n",
        "        pass\n",
        "\n",
        "    def greet():\n",
        "        print(\"Hi\")\n",
        "\n",
        "\n",
        "class Student(Person):\n",
        "    def __init__(self, name: str, age: int, student_id: str):\n",
        "        super().__init__(name,age)\n",
        "        self.student_id = student_id\n",
        "\n",
        "    def Work(self):\n",
        "        print(\"Student is Studying\")\n",
        "\n",
        "    def greet(self):\n",
        "        print(\"Student is greeting\")\n",
        "\n",
        "# p1 = Person(\"hamza\", 23)\n",
        "# p1.greet()\n",
        "s1 = Student(\"Shahrukh\", 25, \"s1234\")\n",
        "s1.Work()\n",
        "print(s1.__dict__)\n"
      ]
    },
    {
      "cell_type": "code",
      "source": [
        "from abc import ABC, abstractmethod\n",
        "\n",
        "class Person:\n",
        "    def __init__(self, name, age):\n",
        "        self.name = name\n",
        "        self.age = age\n",
        "\n",
        "    def Work(self):\n",
        "        print(\"Person is working...!\")\n",
        "\n",
        "\n",
        "    def greet(self):\n",
        "        print(\"Hi\")\n",
        "\n",
        "class Student(Person):\n",
        "    def __init__(self, name, age, student_id: str):\n",
        "        super().__init__(name, age,)\n",
        "        self.student_id = student_id\n",
        "\n",
        "    def Work(self):\n",
        "        print(\"Student is Studying\")\n",
        "\n",
        "\n",
        "class Teacher():\n",
        "    def __init__(self, name: str, age: int, teacher_id: str):\n",
        "        self.name = name\n",
        "        self.age = age\n",
        "        self.teacher_id = teacher_id\n",
        "\n",
        "    def work(self):\n",
        "        print(\"Teacher is teaching..!\")\n",
        "\n",
        "    def greet(self):\n",
        "        print(\"Teacher is greeting\")\n",
        "\n",
        "class StudentLeader(Student, Teacher):\n",
        "    def __init__(self, name, age, student_id, teacher_id, slot):\n",
        "        Student.__init__(self, name, age, student_id)\n",
        "        Teacher.__init__(self, name, age, teacher_id)\n",
        "        self.slot = slot\n",
        "\n",
        "    def work(self):\n",
        "        print(\"Student_Leader is teaching\")\n",
        "\n",
        "    def greet(self):\n",
        "        print(\"Student Leader is greeting\")\n",
        "\n",
        "student_leader = StudentLeader(\"Tahreem\", 22, \"s3213\",\"T1234\", \"sat 7-10\")\n",
        "student_leader.Work()\n",
        "StudentLeader.mro()\n",
        "\n"
      ],
      "metadata": {
        "id": "pBk7qjVbEIx3"
      },
      "execution_count": null,
      "outputs": []
    },
    {
      "cell_type": "code",
      "source": [
        "def sum(a: int, b: int):\n",
        "    return a+b\n",
        "def sum(a: int, b: int, c: int):\n",
        "    return a+b+c\n",
        "result = sum(1,2,3)\n",
        "print(result)"
      ],
      "metadata": {
        "id": "kr2ZPK8pELm0"
      },
      "execution_count": null,
      "outputs": []
    },
    {
      "cell_type": "code",
      "source": [
        "class Person:\n",
        "  def __init__(self, name, age):\n",
        "    self.name = name\n",
        "    self.age = age\n",
        "\n",
        "  def __add__(self,other):\n",
        "      combined_name = f\"{self.name}{other.name}\"\n",
        "      combined_age = self.age + other.age\n",
        "      return Person(combined_name,combined_age)\n",
        "\n",
        "  def greet(self):\n",
        "      print(f\"Hello, my name is {self.name} and i am {self.age} years old..\")\n",
        "\n",
        "person1 = Person(\"Emaan\", 22)\n",
        "person2 = Person(\"Fizza\", 20)\n",
        "combined_person = person1 + person2\n",
        "person1.greet()\n",
        "person2.greet()\n",
        "print(combined_person.name)\n",
        "print(combined_person.age)"
      ],
      "metadata": {
        "id": "bHTNNcYkEqRr"
      },
      "execution_count": null,
      "outputs": []
    },
    {
      "cell_type": "code",
      "source": [
        "# class instance lever attribute\n",
        "\n",
        "class Person():\n",
        "  population = 0\n",
        "  default_language = \"urdu\"\n",
        "\n",
        "  def __init__(self, name, age, language: str = None):\n",
        "    self.name = name\n",
        "    self.age = age\n",
        "    self.language = language if  language else Person.default_language\n",
        "\n",
        "person1 = Person(\"Ali\", 27, \"English\")\n",
        "person2 = Person(\"Abdullah\", 25)\n",
        "print(\"population\", Person.population)\n",
        "print(person1.__dict__)\n",
        "print(person2.__dict__)"
      ],
      "metadata": {
        "id": "wYEkjwwrHkWn"
      },
      "execution_count": null,
      "outputs": []
    },
    {
      "cell_type": "code",
      "source": [
        "class Person():\n",
        "  population = 1000\n",
        "  default_language = \"urdu\"\n",
        "\n",
        "  def __init__(self, name, age):\n",
        "    self.name = name\n",
        "    self.age = age\n",
        "\n",
        "  def greet(self):\n",
        "    print(f\"{self.name} is greeting..\")\n",
        "\n",
        "  @classmethod\n",
        "  def get_population(cls):\n",
        "    print(\"cls>>\",cls)\n",
        "    print(\"Population>>\",cls.population)\n",
        "\n",
        "  @classmethod\n",
        "  def creat_annonymous(cls, age:int):\n",
        "    print(\"cls>>>\",cls)     #cls = person return person (\"annonymous\",age)\n",
        "    return cls (\"Annonymous\",age)\n",
        "\n",
        "  @staticmethod\n",
        "  def is_adult(age:int):\n",
        "    return age >= 18\n",
        "\n",
        "person1 = Person(\"Ali\", 20)\n",
        "Person.is_adult(20)\n",
        "# person1.greet()\n",
        "# person2 = Person.creat_annonymous(35)\n",
        "# print(\"Name\", person2.name)\n",
        "# print(\"Age\", person2.age)\n",
        "# person1.get_population()"
      ],
      "metadata": {
        "id": "iYwZb30-J3Qi"
      },
      "execution_count": null,
      "outputs": []
    }
  ]
}